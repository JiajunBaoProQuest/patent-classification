{
 "cells": [
  {
   "cell_type": "code",
   "execution_count": 2,
   "metadata": {},
   "outputs": [],
   "source": [
    "#import office_actions csv\n",
    "#try to see balance of the data"
   ]
  },
  {
   "cell_type": "code",
   "execution_count": 11,
   "metadata": {},
   "outputs": [],
   "source": [
    "import pandas as pd\n",
    "import numpy as np\n",
    "\n",
    "from bokeh.io import show, output_file\n",
    "from bokeh.plotting import figure\n",
    "from bokeh.palettes import Spectral5\n",
    "from bokeh.transform import factor_cmap"
   ]
  },
  {
   "cell_type": "code",
   "execution_count": 4,
   "metadata": {
    "scrolled": true
   },
   "outputs": [
    {
     "data": {
      "text/html": [
       "<div>\n",
       "<style scoped>\n",
       "    .dataframe tbody tr th:only-of-type {\n",
       "        vertical-align: middle;\n",
       "    }\n",
       "\n",
       "    .dataframe tbody tr th {\n",
       "        vertical-align: top;\n",
       "    }\n",
       "\n",
       "    .dataframe thead th {\n",
       "        text-align: right;\n",
       "    }\n",
       "</style>\n",
       "<table border=\"1\" class=\"dataframe\">\n",
       "  <thead>\n",
       "    <tr style=\"text-align: right;\">\n",
       "      <th></th>\n",
       "      <th>app_id</th>\n",
       "      <th>ifw_number</th>\n",
       "      <th>rejection_102</th>\n",
       "      <th>rejection_103</th>\n",
       "    </tr>\n",
       "  </thead>\n",
       "  <tbody>\n",
       "    <tr>\n",
       "      <th>0</th>\n",
       "      <td>14150981</td>\n",
       "      <td>100867762</td>\n",
       "      <td>0</td>\n",
       "      <td>1</td>\n",
       "    </tr>\n",
       "    <tr>\n",
       "      <th>1</th>\n",
       "      <td>14198961</td>\n",
       "      <td>100867788</td>\n",
       "      <td>1</td>\n",
       "      <td>1</td>\n",
       "    </tr>\n",
       "    <tr>\n",
       "      <th>2</th>\n",
       "      <td>13796589</td>\n",
       "      <td>100867794</td>\n",
       "      <td>0</td>\n",
       "      <td>1</td>\n",
       "    </tr>\n",
       "    <tr>\n",
       "      <th>3</th>\n",
       "      <td>14673475</td>\n",
       "      <td>100867844</td>\n",
       "      <td>1</td>\n",
       "      <td>1</td>\n",
       "    </tr>\n",
       "    <tr>\n",
       "      <th>4</th>\n",
       "      <td>14669113</td>\n",
       "      <td>100867850</td>\n",
       "      <td>0</td>\n",
       "      <td>0</td>\n",
       "    </tr>\n",
       "  </tbody>\n",
       "</table>\n",
       "</div>"
      ],
      "text/plain": [
       "     app_id  ifw_number  rejection_102  rejection_103\n",
       "0  14150981   100867762              0              1\n",
       "1  14198961   100867788              1              1\n",
       "2  13796589   100867794              0              1\n",
       "3  14673475   100867844              1              1\n",
       "4  14669113   100867850              0              0"
      ]
     },
     "execution_count": 4,
     "metadata": {},
     "output_type": "execute_result"
    }
   ],
   "source": [
    "office_actions = pd.read_csv('/Users/redav/Documents/School/CloudML/Project3/patent-classification/data/office_actions.csv', usecols=['app_id', 'ifw_number', 'rejection_102', 'rejection_103'], nrows=10000)\n",
    "office_actions.head()"
   ]
  },
  {
   "cell_type": "code",
   "execution_count": 5,
   "metadata": {},
   "outputs": [
    {
     "data": {
      "text/plain": [
       "10000"
      ]
     },
     "execution_count": 5,
     "metadata": {},
     "output_type": "execute_result"
    }
   ],
   "source": [
    "np.size(pd.unique(office_actions.app_id))"
   ]
  },
  {
   "cell_type": "code",
   "execution_count": 22,
   "metadata": {},
   "outputs": [
    {
     "name": "stdout",
     "output_type": "stream",
     "text": [
      "neither: 8.93%\n",
      "obvious_only: 53.5%\n",
      "novelty_only: 10.530000000000001%\n",
      "both: 27.04%\n"
     ]
    }
   ],
   "source": [
    "neither = obvious_only = novelty_only = both = error = 0\n",
    "\n",
    "for n,o in zip(office_actions.rejection_102, office_actions.rejection_103):\n",
    "    if n == 0 and o == 0:\n",
    "        neither += 1\n",
    "    elif n == 0 and o == 1:\n",
    "        obvious_only += 1\n",
    "    elif n == 1 and o == 0:\n",
    "        novelty_only += 1\n",
    "    elif n == 1 and o == 1:\n",
    "        both += 1\n",
    "    else:\n",
    "        error += 1\n",
    "    \n",
    "nums = []\n",
    "names = ['neither', 'obvious_only', 'novelty_only', 'both']\n",
    "for num, word in zip([neither, obvious_only, novelty_only, both], names):\n",
    "    per = num/office_actions.app_id.size*100\n",
    "    print(\"{}: {}%\".format(word, str(per)))\n",
    "    nums.append(per)\n"
   ]
  },
  {
   "cell_type": "code",
   "execution_count": 7,
   "metadata": {},
   "outputs": [
    {
     "data": {
      "text/plain": [
       "80.53999999999999"
      ]
     },
     "execution_count": 7,
     "metadata": {},
     "output_type": "execute_result"
    }
   ],
   "source": [
    "53.5+27.04"
   ]
  },
  {
   "cell_type": "code",
   "execution_count": 8,
   "metadata": {},
   "outputs": [
    {
     "data": {
      "text/plain": [
       "0.5002343533823123"
      ]
     },
     "execution_count": 8,
     "metadata": {},
     "output_type": "execute_result"
    }
   ],
   "source": [
    "x=0.758\n",
    "(80.53-80.53*x) / (100-80.53*x)"
   ]
  },
  {
   "cell_type": "code",
   "execution_count": 39,
   "metadata": {},
   "outputs": [],
   "source": [
    "def generateGraph(df):\n",
    "    group = df.drop_duplicates(subset = ['field'])#.groupby(['Site', 'Username'])\n",
    "    \n",
    "    p = figure(plot_height = 600, plot_width = 300,\n",
    "        title = 'Data Imbalance',\n",
    "        x_range = group.field,\n",
    "          )\n",
    "\n",
    "    p.vbar(x='field', top='percent', width=1, source=group, line_color=\"white\" )#, fill_color=index_cmap)#fill_color=index_cmap,\n",
    "\n",
    "    \n",
    "    p.y_range.start = 0\n",
    "    p.x_range.range_padding = 0.05\n",
    "    p.xgrid.grid_line_color = None\n",
    "    p.xaxis.axis_label = \"Classes\"\n",
    "    p.xaxis.major_label_orientation = 1.2\n",
    "    p.outline_line_color = None\n",
    "    \n",
    "    show(p)"
   ]
  },
  {
   "cell_type": "code",
   "execution_count": 40,
   "metadata": {},
   "outputs": [],
   "source": [
    "df = pd.DataFrame(data={'field': ['Obvious', 'Not Obvious'],'percent': [80.5, 19.5]})"
   ]
  },
  {
   "cell_type": "code",
   "execution_count": 41,
   "metadata": {},
   "outputs": [],
   "source": [
    "generateGraph(df)"
   ]
  },
  {
   "cell_type": "code",
   "execution_count": 36,
   "metadata": {},
   "outputs": [
    {
     "data": {
      "text/plain": [
       "19.5"
      ]
     },
     "execution_count": 36,
     "metadata": {},
     "output_type": "execute_result"
    }
   ],
   "source": [
    "100-80.5\n",
    "\n"
   ]
  },
  {
   "cell_type": "code",
   "execution_count": 42,
   "metadata": {},
   "outputs": [],
   "source": [
    "from math import pi\n",
    "\n",
    "import pandas as pd\n",
    "\n",
    "from bokeh.io import output_file, show\n",
    "from bokeh.palettes import Category20c\n",
    "from bokeh.plotting import figure\n",
    "from bokeh.transform import cumsum\n",
    "\n",
    "x = { 'neither': 9,\n",
    "'obvious_only': 54,\n",
    "'novelty_only': 10,\n",
    "'both': 27.04}\n",
    "\n",
    "data = pd.Series(x).reset_index(name='value').rename(columns={'index':'country'})\n",
    "data['angle'] = data['value']/data['value'].sum() * 2*pi\n",
    "data['color'] = Category20c[len(x)]\n",
    "\n",
    "p = figure(plot_height=350, title=\"Original Data Labels - Percentages\", toolbar_location=None,\n",
    "        tools=\"hover\", tooltips=\"@country: @value\")\n",
    "\n",
    "p.wedge(x=0, y=1, radius=0.4,\n",
    "        start_angle=cumsum('angle', include_zero=True), end_angle=cumsum('angle'),\n",
    "        line_color=\"white\", fill_color='color', legend='country', source=data)\n",
    "\n",
    "show(p)"
   ]
  },
  {
   "cell_type": "code",
   "execution_count": null,
   "metadata": {},
   "outputs": [],
   "source": []
  }
 ],
 "metadata": {
  "kernelspec": {
   "display_name": "Python 3",
   "language": "python",
   "name": "python3"
  },
  "language_info": {
   "codemirror_mode": {
    "name": "ipython",
    "version": 3
   },
   "file_extension": ".py",
   "mimetype": "text/x-python",
   "name": "python",
   "nbconvert_exporter": "python",
   "pygments_lexer": "ipython3",
   "version": "3.7.1"
  }
 },
 "nbformat": 4,
 "nbformat_minor": 2
}
