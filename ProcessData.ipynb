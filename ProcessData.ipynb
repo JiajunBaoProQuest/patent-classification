{
 "cells": [
  {
   "cell_type": "code",
   "execution_count": 1,
   "metadata": {},
   "outputs": [],
   "source": [
    "#import office_actions csv\n",
    "#try to see balance of the data"
   ]
  },
  {
   "cell_type": "code",
   "execution_count": 13,
   "metadata": {},
   "outputs": [],
   "source": [
    "import pandas as pd\n",
    "import numpy as np"
   ]
  },
  {
   "cell_type": "code",
   "execution_count": 6,
   "metadata": {},
   "outputs": [
    {
     "data": {
      "text/html": [
       "<div>\n",
       "<style scoped>\n",
       "    .dataframe tbody tr th:only-of-type {\n",
       "        vertical-align: middle;\n",
       "    }\n",
       "\n",
       "    .dataframe tbody tr th {\n",
       "        vertical-align: top;\n",
       "    }\n",
       "\n",
       "    .dataframe thead th {\n",
       "        text-align: right;\n",
       "    }\n",
       "</style>\n",
       "<table border=\"1\" class=\"dataframe\">\n",
       "  <thead>\n",
       "    <tr style=\"text-align: right;\">\n",
       "      <th></th>\n",
       "      <th>app_id</th>\n",
       "      <th>ifw_number</th>\n",
       "      <th>rejection_102</th>\n",
       "      <th>rejection_103</th>\n",
       "    </tr>\n",
       "  </thead>\n",
       "  <tbody>\n",
       "    <tr>\n",
       "      <th>0</th>\n",
       "      <td>14150981</td>\n",
       "      <td>100867762</td>\n",
       "      <td>0</td>\n",
       "      <td>1</td>\n",
       "    </tr>\n",
       "    <tr>\n",
       "      <th>1</th>\n",
       "      <td>14198961</td>\n",
       "      <td>100867788</td>\n",
       "      <td>1</td>\n",
       "      <td>1</td>\n",
       "    </tr>\n",
       "    <tr>\n",
       "      <th>2</th>\n",
       "      <td>13796589</td>\n",
       "      <td>100867794</td>\n",
       "      <td>0</td>\n",
       "      <td>1</td>\n",
       "    </tr>\n",
       "    <tr>\n",
       "      <th>3</th>\n",
       "      <td>14673475</td>\n",
       "      <td>100867844</td>\n",
       "      <td>1</td>\n",
       "      <td>1</td>\n",
       "    </tr>\n",
       "    <tr>\n",
       "      <th>4</th>\n",
       "      <td>14669113</td>\n",
       "      <td>100867850</td>\n",
       "      <td>0</td>\n",
       "      <td>0</td>\n",
       "    </tr>\n",
       "  </tbody>\n",
       "</table>\n",
       "</div>"
      ],
      "text/plain": [
       "     app_id  ifw_number  rejection_102  rejection_103\n",
       "0  14150981   100867762              0              1\n",
       "1  14198961   100867788              1              1\n",
       "2  13796589   100867794              0              1\n",
       "3  14673475   100867844              1              1\n",
       "4  14669113   100867850              0              0"
      ]
     },
     "execution_count": 6,
     "metadata": {},
     "output_type": "execute_result"
    }
   ],
   "source": [
    "office_actions = pd.read_csv('/Users/redav/Documents/School/CloudML/Project3/data/office_actions.csv', usecols=['app_id', 'ifw_number', 'rejection_102', 'rejection_103'], nrows=10000)\n",
    "office_actions.head()"
   ]
  },
  {
   "cell_type": "code",
   "execution_count": 15,
   "metadata": {},
   "outputs": [
    {
     "data": {
      "text/plain": [
       "10000"
      ]
     },
     "execution_count": 15,
     "metadata": {},
     "output_type": "execute_result"
    }
   ],
   "source": [
    "np.size(pd.unique(office_actions.app_id))"
   ]
  },
  {
   "cell_type": "code",
   "execution_count": 30,
   "metadata": {},
   "outputs": [
    {
     "name": "stdout",
     "output_type": "stream",
     "text": [
      "neither: 8.93%\n",
      "obvious: 53.5%\n",
      "novelty: 10.530000000000001%\n",
      "both: 27.04%\n",
      "error: 0.0%\n"
     ]
    }
   ],
   "source": [
    "neither = obvious = novelty = both = error = 0\n",
    "\n",
    "for n,o in zip(office_actions.rejection_102, office_actions.rejection_103):\n",
    "    if n == 0 and o == 0:\n",
    "        neither += 1\n",
    "    elif n == 0 and o == 1:\n",
    "        obvious += 1\n",
    "    elif n == 1 and o == 0:\n",
    "        novelty += 1\n",
    "    elif n == 1 and o == 1:\n",
    "        both += 1\n",
    "    else:\n",
    "        error += 1\n",
    "        \n",
    "for num, word in zip([neither, obvious, novelty, both, error],['neither', 'obvious', 'novelty', 'both', 'error']):\n",
    "    print(word+\": \"+str(num/office_actions.app_id.size*100)+\"%\")\n"
   ]
  },
  {
   "cell_type": "code",
   "execution_count": null,
   "metadata": {},
   "outputs": [],
   "source": []
  }
 ],
 "metadata": {
  "kernelspec": {
   "display_name": "Python 3",
   "language": "python",
   "name": "python3"
  },
  "language_info": {
   "codemirror_mode": {
    "name": "ipython",
    "version": 3
   },
   "file_extension": ".py",
   "mimetype": "text/x-python",
   "name": "python",
   "nbconvert_exporter": "python",
   "pygments_lexer": "ipython3",
   "version": "3.7.1"
  }
 },
 "nbformat": 4,
 "nbformat_minor": 2
}
